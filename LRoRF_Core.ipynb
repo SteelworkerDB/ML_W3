{
  "nbformat": 4,
  "nbformat_minor": 0,
  "metadata": {
    "colab": {
      "provenance": [],
      "authorship_tag": "ABX9TyPj50+p8uKPR+PdBEAraRwu",
      "include_colab_link": true
    },
    "kernelspec": {
      "name": "python3",
      "display_name": "Python 3"
    },
    "language_info": {
      "name": "python"
    }
  },
  "cells": [
    {
      "cell_type": "markdown",
      "metadata": {
        "id": "view-in-github",
        "colab_type": "text"
      },
      "source": [
        "<a href=\"https://colab.research.google.com/github/SteelworkerDB/ML_W3/blob/main/LRoRF_Core.ipynb\" target=\"_parent\"><img src=\"https://colab.research.google.com/assets/colab-badge.svg\" alt=\"Open In Colab\"/></a>"
      ]
    },
    {
      "cell_type": "markdown",
      "source": [
        "# EJERCICIO REGRESIÓN LOGÍSTICA O BOSQUE ALEATORIO (CORE)\n",
        "---"
      ],
      "metadata": {
        "id": "VJnCMnv8BOEh"
      }
    },
    {
      "cell_type": "code",
      "source": [
        "#Importar librerías base\n",
        "import pandas as pd\n",
        "import numpy as np\n",
        "import matplotlib.pyplot as plt\n"
      ],
      "metadata": {
        "id": "NgHfbeJ8BekP"
      },
      "execution_count": 50,
      "outputs": []
    },
    {
      "cell_type": "code",
      "source": [
        "#importar sklearn\n",
        "from sklearn.model_selection import train_test_split, GridSearchCV\n",
        "from sklearn.pipeline import Pipeline\n",
        "from sklearn.compose import make_column_selector\n",
        "from sklearn.compose import ColumnTransformer\n",
        "from sklearn.preprocessing import StandardScaler, OneHotEncoder, LabelEncoder\n",
        "from sklearn.impute import SimpleImputer\n",
        "\n",
        "from sklearn.linear_model import LogisticRegression\n",
        "from sklearn.neighbors import KNeighborsClassifier\n",
        "from sklearn.ensemble import RandomForestClassifier\n",
        "from sklearn.metrics import classification_report, ConfusionMatrixDisplay, confusion_matrix"
      ],
      "metadata": {
        "id": "ZUKJm7-dB10n"
      },
      "execution_count": 51,
      "outputs": []
    },
    {
      "cell_type": "code",
      "source": [
        "#CARGA DE DATOS\n",
        "filename='/content/Wine_cultivars.csv'\n",
        "dfw=pd.read_csv(filename)\n",
        "dfw.head()"
      ],
      "metadata": {
        "colab": {
          "base_uri": "https://localhost:8080/",
          "height": 224
        },
        "id": "jP78Qxu0BNY2",
        "outputId": "3245221a-55c3-44d2-b387-0e1021a7dfa9"
      },
      "execution_count": 52,
      "outputs": [
        {
          "output_type": "execute_result",
          "data": {
            "text/plain": [
              "   Class label  Alcohol  Malic Acid   Ash  Alcalinity of ash  Magnesium  \\\n",
              "0            1    14.23        1.71  2.43               15.6        127   \n",
              "1            1    13.20        1.78  2.14               11.2        100   \n",
              "2            1    13.16        2.36  2.67               18.6        101   \n",
              "3            1    14.37        1.95  2.50               16.8        113   \n",
              "4            1    13.24        2.59  2.87               21.0        118   \n",
              "\n",
              "   Total phenols  Flavanoids  Nonflavonid phenols  Proanthocyanins  \\\n",
              "0           2.80        3.06                 0.28             2.29   \n",
              "1           2.65        2.76                 0.26             1.28   \n",
              "2           2.80        3.24                 0.30             2.81   \n",
              "3           3.85        3.49                 0.24             2.18   \n",
              "4           2.80        2.69                 0.39             1.82   \n",
              "\n",
              "   Color intensity   Hue  OD280/OD315 of diluted wines  Proline  \n",
              "0             5.64  1.04                          3.92     1065  \n",
              "1             4.38  1.05                          3.40     1050  \n",
              "2             5.68  1.03                          3.17     1185  \n",
              "3             7.80  0.86                          3.45     1480  \n",
              "4             4.32  1.04                          2.93      735  "
            ],
            "text/html": [
              "\n",
              "  <div id=\"df-c57ee354-997c-47b4-9b1a-9f501940d3f2\" class=\"colab-df-container\">\n",
              "    <div>\n",
              "<style scoped>\n",
              "    .dataframe tbody tr th:only-of-type {\n",
              "        vertical-align: middle;\n",
              "    }\n",
              "\n",
              "    .dataframe tbody tr th {\n",
              "        vertical-align: top;\n",
              "    }\n",
              "\n",
              "    .dataframe thead th {\n",
              "        text-align: right;\n",
              "    }\n",
              "</style>\n",
              "<table border=\"1\" class=\"dataframe\">\n",
              "  <thead>\n",
              "    <tr style=\"text-align: right;\">\n",
              "      <th></th>\n",
              "      <th>Class label</th>\n",
              "      <th>Alcohol</th>\n",
              "      <th>Malic Acid</th>\n",
              "      <th>Ash</th>\n",
              "      <th>Alcalinity of ash</th>\n",
              "      <th>Magnesium</th>\n",
              "      <th>Total phenols</th>\n",
              "      <th>Flavanoids</th>\n",
              "      <th>Nonflavonid phenols</th>\n",
              "      <th>Proanthocyanins</th>\n",
              "      <th>Color intensity</th>\n",
              "      <th>Hue</th>\n",
              "      <th>OD280/OD315 of diluted wines</th>\n",
              "      <th>Proline</th>\n",
              "    </tr>\n",
              "  </thead>\n",
              "  <tbody>\n",
              "    <tr>\n",
              "      <th>0</th>\n",
              "      <td>1</td>\n",
              "      <td>14.23</td>\n",
              "      <td>1.71</td>\n",
              "      <td>2.43</td>\n",
              "      <td>15.6</td>\n",
              "      <td>127</td>\n",
              "      <td>2.80</td>\n",
              "      <td>3.06</td>\n",
              "      <td>0.28</td>\n",
              "      <td>2.29</td>\n",
              "      <td>5.64</td>\n",
              "      <td>1.04</td>\n",
              "      <td>3.92</td>\n",
              "      <td>1065</td>\n",
              "    </tr>\n",
              "    <tr>\n",
              "      <th>1</th>\n",
              "      <td>1</td>\n",
              "      <td>13.20</td>\n",
              "      <td>1.78</td>\n",
              "      <td>2.14</td>\n",
              "      <td>11.2</td>\n",
              "      <td>100</td>\n",
              "      <td>2.65</td>\n",
              "      <td>2.76</td>\n",
              "      <td>0.26</td>\n",
              "      <td>1.28</td>\n",
              "      <td>4.38</td>\n",
              "      <td>1.05</td>\n",
              "      <td>3.40</td>\n",
              "      <td>1050</td>\n",
              "    </tr>\n",
              "    <tr>\n",
              "      <th>2</th>\n",
              "      <td>1</td>\n",
              "      <td>13.16</td>\n",
              "      <td>2.36</td>\n",
              "      <td>2.67</td>\n",
              "      <td>18.6</td>\n",
              "      <td>101</td>\n",
              "      <td>2.80</td>\n",
              "      <td>3.24</td>\n",
              "      <td>0.30</td>\n",
              "      <td>2.81</td>\n",
              "      <td>5.68</td>\n",
              "      <td>1.03</td>\n",
              "      <td>3.17</td>\n",
              "      <td>1185</td>\n",
              "    </tr>\n",
              "    <tr>\n",
              "      <th>3</th>\n",
              "      <td>1</td>\n",
              "      <td>14.37</td>\n",
              "      <td>1.95</td>\n",
              "      <td>2.50</td>\n",
              "      <td>16.8</td>\n",
              "      <td>113</td>\n",
              "      <td>3.85</td>\n",
              "      <td>3.49</td>\n",
              "      <td>0.24</td>\n",
              "      <td>2.18</td>\n",
              "      <td>7.80</td>\n",
              "      <td>0.86</td>\n",
              "      <td>3.45</td>\n",
              "      <td>1480</td>\n",
              "    </tr>\n",
              "    <tr>\n",
              "      <th>4</th>\n",
              "      <td>1</td>\n",
              "      <td>13.24</td>\n",
              "      <td>2.59</td>\n",
              "      <td>2.87</td>\n",
              "      <td>21.0</td>\n",
              "      <td>118</td>\n",
              "      <td>2.80</td>\n",
              "      <td>2.69</td>\n",
              "      <td>0.39</td>\n",
              "      <td>1.82</td>\n",
              "      <td>4.32</td>\n",
              "      <td>1.04</td>\n",
              "      <td>2.93</td>\n",
              "      <td>735</td>\n",
              "    </tr>\n",
              "  </tbody>\n",
              "</table>\n",
              "</div>\n",
              "    <div class=\"colab-df-buttons\">\n",
              "\n",
              "  <div class=\"colab-df-container\">\n",
              "    <button class=\"colab-df-convert\" onclick=\"convertToInteractive('df-c57ee354-997c-47b4-9b1a-9f501940d3f2')\"\n",
              "            title=\"Convert this dataframe to an interactive table.\"\n",
              "            style=\"display:none;\">\n",
              "\n",
              "  <svg xmlns=\"http://www.w3.org/2000/svg\" height=\"24px\" viewBox=\"0 -960 960 960\">\n",
              "    <path d=\"M120-120v-720h720v720H120Zm60-500h600v-160H180v160Zm220 220h160v-160H400v160Zm0 220h160v-160H400v160ZM180-400h160v-160H180v160Zm440 0h160v-160H620v160ZM180-180h160v-160H180v160Zm440 0h160v-160H620v160Z\"/>\n",
              "  </svg>\n",
              "    </button>\n",
              "\n",
              "  <style>\n",
              "    .colab-df-container {\n",
              "      display:flex;\n",
              "      gap: 12px;\n",
              "    }\n",
              "\n",
              "    .colab-df-convert {\n",
              "      background-color: #E8F0FE;\n",
              "      border: none;\n",
              "      border-radius: 50%;\n",
              "      cursor: pointer;\n",
              "      display: none;\n",
              "      fill: #1967D2;\n",
              "      height: 32px;\n",
              "      padding: 0 0 0 0;\n",
              "      width: 32px;\n",
              "    }\n",
              "\n",
              "    .colab-df-convert:hover {\n",
              "      background-color: #E2EBFA;\n",
              "      box-shadow: 0px 1px 2px rgba(60, 64, 67, 0.3), 0px 1px 3px 1px rgba(60, 64, 67, 0.15);\n",
              "      fill: #174EA6;\n",
              "    }\n",
              "\n",
              "    .colab-df-buttons div {\n",
              "      margin-bottom: 4px;\n",
              "    }\n",
              "\n",
              "    [theme=dark] .colab-df-convert {\n",
              "      background-color: #3B4455;\n",
              "      fill: #D2E3FC;\n",
              "    }\n",
              "\n",
              "    [theme=dark] .colab-df-convert:hover {\n",
              "      background-color: #434B5C;\n",
              "      box-shadow: 0px 1px 3px 1px rgba(0, 0, 0, 0.15);\n",
              "      filter: drop-shadow(0px 1px 2px rgba(0, 0, 0, 0.3));\n",
              "      fill: #FFFFFF;\n",
              "    }\n",
              "  </style>\n",
              "\n",
              "    <script>\n",
              "      const buttonEl =\n",
              "        document.querySelector('#df-c57ee354-997c-47b4-9b1a-9f501940d3f2 button.colab-df-convert');\n",
              "      buttonEl.style.display =\n",
              "        google.colab.kernel.accessAllowed ? 'block' : 'none';\n",
              "\n",
              "      async function convertToInteractive(key) {\n",
              "        const element = document.querySelector('#df-c57ee354-997c-47b4-9b1a-9f501940d3f2');\n",
              "        const dataTable =\n",
              "          await google.colab.kernel.invokeFunction('convertToInteractive',\n",
              "                                                    [key], {});\n",
              "        if (!dataTable) return;\n",
              "\n",
              "        const docLinkHtml = 'Like what you see? Visit the ' +\n",
              "          '<a target=\"_blank\" href=https://colab.research.google.com/notebooks/data_table.ipynb>data table notebook</a>'\n",
              "          + ' to learn more about interactive tables.';\n",
              "        element.innerHTML = '';\n",
              "        dataTable['output_type'] = 'display_data';\n",
              "        await google.colab.output.renderOutput(dataTable, element);\n",
              "        const docLink = document.createElement('div');\n",
              "        docLink.innerHTML = docLinkHtml;\n",
              "        element.appendChild(docLink);\n",
              "      }\n",
              "    </script>\n",
              "  </div>\n",
              "\n",
              "\n",
              "<div id=\"df-7e2ebc9c-68cb-4368-95a5-7efe66d9e2e4\">\n",
              "  <button class=\"colab-df-quickchart\" onclick=\"quickchart('df-7e2ebc9c-68cb-4368-95a5-7efe66d9e2e4')\"\n",
              "            title=\"Suggest charts.\"\n",
              "            style=\"display:none;\">\n",
              "\n",
              "<svg xmlns=\"http://www.w3.org/2000/svg\" height=\"24px\"viewBox=\"0 0 24 24\"\n",
              "     width=\"24px\">\n",
              "    <g>\n",
              "        <path d=\"M19 3H5c-1.1 0-2 .9-2 2v14c0 1.1.9 2 2 2h14c1.1 0 2-.9 2-2V5c0-1.1-.9-2-2-2zM9 17H7v-7h2v7zm4 0h-2V7h2v10zm4 0h-2v-4h2v4z\"/>\n",
              "    </g>\n",
              "</svg>\n",
              "  </button>\n",
              "\n",
              "<style>\n",
              "  .colab-df-quickchart {\n",
              "    background-color: #E8F0FE;\n",
              "    border: none;\n",
              "    border-radius: 50%;\n",
              "    cursor: pointer;\n",
              "    display: none;\n",
              "    fill: #1967D2;\n",
              "    height: 32px;\n",
              "    padding: 0 0 0 0;\n",
              "    width: 32px;\n",
              "  }\n",
              "\n",
              "  .colab-df-quickchart:hover {\n",
              "    background-color: #E2EBFA;\n",
              "    box-shadow: 0px 1px 2px rgba(60, 64, 67, 0.3), 0px 1px 3px 1px rgba(60, 64, 67, 0.15);\n",
              "    fill: #174EA6;\n",
              "  }\n",
              "\n",
              "  [theme=dark] .colab-df-quickchart {\n",
              "    background-color: #3B4455;\n",
              "    fill: #D2E3FC;\n",
              "  }\n",
              "\n",
              "  [theme=dark] .colab-df-quickchart:hover {\n",
              "    background-color: #434B5C;\n",
              "    box-shadow: 0px 1px 3px 1px rgba(0, 0, 0, 0.15);\n",
              "    filter: drop-shadow(0px 1px 2px rgba(0, 0, 0, 0.3));\n",
              "    fill: #FFFFFF;\n",
              "  }\n",
              "</style>\n",
              "\n",
              "  <script>\n",
              "    async function quickchart(key) {\n",
              "      const charts = await google.colab.kernel.invokeFunction(\n",
              "          'suggestCharts', [key], {});\n",
              "    }\n",
              "    (() => {\n",
              "      let quickchartButtonEl =\n",
              "        document.querySelector('#df-7e2ebc9c-68cb-4368-95a5-7efe66d9e2e4 button');\n",
              "      quickchartButtonEl.style.display =\n",
              "        google.colab.kernel.accessAllowed ? 'block' : 'none';\n",
              "    })();\n",
              "  </script>\n",
              "</div>\n",
              "    </div>\n",
              "  </div>\n"
            ]
          },
          "metadata": {},
          "execution_count": 52
        }
      ]
    },
    {
      "cell_type": "code",
      "execution_count": 53,
      "metadata": {
        "colab": {
          "base_uri": "https://localhost:8080/"
        },
        "id": "aAIu_j_tAPg6",
        "outputId": "9449347f-aced-4fbc-9598-addb5d0116b5"
      },
      "outputs": [
        {
          "output_type": "stream",
          "name": "stdout",
          "text": [
            "<class 'pandas.core.frame.DataFrame'>\n",
            "RangeIndex: 178 entries, 0 to 177\n",
            "Data columns (total 14 columns):\n",
            " #   Column                        Non-Null Count  Dtype  \n",
            "---  ------                        --------------  -----  \n",
            " 0   Class label                   178 non-null    int64  \n",
            " 1   Alcohol                       178 non-null    float64\n",
            " 2   Malic Acid                    178 non-null    float64\n",
            " 3   Ash                           178 non-null    float64\n",
            " 4   Alcalinity of ash             178 non-null    float64\n",
            " 5   Magnesium                     178 non-null    int64  \n",
            " 6   Total phenols                 178 non-null    float64\n",
            " 7   Flavanoids                    178 non-null    float64\n",
            " 8   Nonflavonid phenols           178 non-null    float64\n",
            " 9   Proanthocyanins               178 non-null    float64\n",
            " 10  Color intensity               178 non-null    float64\n",
            " 11  Hue                           178 non-null    float64\n",
            " 12  OD280/OD315 of diluted wines  178 non-null    float64\n",
            " 13  Proline                       178 non-null    int64  \n",
            "dtypes: float64(11), int64(3)\n",
            "memory usage: 19.6 KB\n"
          ]
        }
      ],
      "source": [
        "dfw.info()"
      ]
    },
    {
      "cell_type": "code",
      "source": [
        "dfw['Class label'].value_counts()"
      ],
      "metadata": {
        "colab": {
          "base_uri": "https://localhost:8080/"
        },
        "id": "1fRl6BUBCT4P",
        "outputId": "52717856-9dfb-4ca9-d8ea-693b31fe6bed"
      },
      "execution_count": 54,
      "outputs": [
        {
          "output_type": "execute_result",
          "data": {
            "text/plain": [
              "2    71\n",
              "1    59\n",
              "3    48\n",
              "Name: Class label, dtype: int64"
            ]
          },
          "metadata": {},
          "execution_count": 54
        }
      ]
    },
    {
      "cell_type": "markdown",
      "source": [
        "Existen 3 clases de uva. El regresor logístico no funciona tan bien para clasificar más de dos clases.  Sin embargo, 3 clases no son demasiadas, al utilizar la estrategia OVR del regresor (one vs rest) la regresión puede dar buenos resultados."
      ],
      "metadata": {
        "id": "14NbL-1pCzER"
      }
    },
    {
      "cell_type": "code",
      "source": [
        "#Ingresamos objetivo en y.\n",
        "X=dfw.drop('Class label',axis=1)\n",
        "y=dfw['Class label']\n",
        "\n"
      ],
      "metadata": {
        "id": "sO0ajY_CGMaI"
      },
      "execution_count": 55,
      "outputs": []
    },
    {
      "cell_type": "code",
      "source": [
        "#Instanciar selectores de columnas\n",
        "num_cols=make_column_selector(dtype_include='number')\n",
        "cat_cols=make_column_selector(dtype_include='object')"
      ],
      "metadata": {
        "id": "Mr_r-DO0JrRm"
      },
      "execution_count": 56,
      "outputs": []
    },
    {
      "cell_type": "code",
      "source": [
        "#Instanciamiento de pipelines con imputers, scaler y encoder\n",
        "num_imputer=Pipeline(steps=[\n",
        "    ('imputer',SimpleImputer(strategy='mean'),\n",
        "    ),\n",
        "    ('scaler',StandardScaler()\n",
        "    )\n",
        "])\n",
        "cat_imputer=Pipeline(steps=[\n",
        "    ('imputer',SimpleImputer(strategy='most_frequent'),\n",
        "    ),\n",
        "    ('encoder',OneHotEncoder(handle_unknown='ignore')\n",
        "    )\n",
        "])"
      ],
      "metadata": {
        "id": "rlWNQju_F_yO"
      },
      "execution_count": 57,
      "outputs": []
    },
    {
      "cell_type": "code",
      "source": [
        "# Instanciamos el transformador de columna total.\n",
        "col_transformer=ColumnTransformer(transformers=[\n",
        "    ('num',num_imputer,num_cols),\n",
        "    ('cat',cat_imputer,cat_cols)\n",
        "])"
      ],
      "metadata": {
        "id": "U-4wGUX_H6c5"
      },
      "execution_count": 58,
      "outputs": []
    },
    {
      "cell_type": "code",
      "source": [
        "#División de conjunto de datos de prueba y entrenamiento.\n",
        "X_train,X_test,y_train,y_test=train_test_split(X,y,stratify=y,random_state=8)"
      ],
      "metadata": {
        "id": "qgyxaa6DI0j2"
      },
      "execution_count": 59,
      "outputs": []
    },
    {
      "cell_type": "code",
      "source": [
        "#Ajuste del transformador al conjunto de entrenamiento\n",
        "col_transformer.fit(X_train)\n",
        "\n",
        "#Transformación de los datos según col_transformer\n",
        "X_train_pro=col_transformer.transform(X_train)\n",
        "X_test_pro=col_transformer.transform(X_test)"
      ],
      "metadata": {
        "id": "j-o6BXRLJMED"
      },
      "execution_count": 60,
      "outputs": []
    },
    {
      "cell_type": "markdown",
      "source": [
        "- **Aplicación de Regresión Logística:**"
      ],
      "metadata": {
        "id": "GfftL8LWKsGH"
      }
    },
    {
      "cell_type": "code",
      "source": [
        "#Utilizamos GridSearchCV para encontrar los mejores parámetros paa el modelo de\n",
        "#Regresión logística\n",
        "\n",
        "pm = {'C': [0.001, 0.01, 0.1,1,10],\n",
        "              'penalty': ['l1', 'l2'],\n",
        "              'solver': ['newton-cg','lbfgs','liblinear','sag']}\n",
        "\n",
        "gs = GridSearchCV(LogisticRegression(), pm, refit=True, verbose=2)\n",
        "gs.fit(X_train_pro, y_train) #Entrenamiento con X_train y y_train"
      ],
      "metadata": {
        "colab": {
          "base_uri": "https://localhost:8080/",
          "height": 1000
        },
        "id": "IhhoulVkKJT5",
        "outputId": "de380fa1-b998-4ef2-dc9d-25b8479ffb12"
      },
      "execution_count": 61,
      "outputs": [
        {
          "output_type": "stream",
          "name": "stdout",
          "text": [
            "Fitting 5 folds for each of 40 candidates, totalling 200 fits\n",
            "[CV] END ..............C=0.001, penalty=l1, solver=newton-cg; total time=   0.0s\n",
            "[CV] END ..............C=0.001, penalty=l1, solver=newton-cg; total time=   0.0s\n",
            "[CV] END ..............C=0.001, penalty=l1, solver=newton-cg; total time=   0.0s\n",
            "[CV] END ..............C=0.001, penalty=l1, solver=newton-cg; total time=   0.0s\n",
            "[CV] END ..............C=0.001, penalty=l1, solver=newton-cg; total time=   0.0s\n",
            "[CV] END ..................C=0.001, penalty=l1, solver=lbfgs; total time=   0.0s\n",
            "[CV] END ..................C=0.001, penalty=l1, solver=lbfgs; total time=   0.0s\n",
            "[CV] END ..................C=0.001, penalty=l1, solver=lbfgs; total time=   0.0s\n",
            "[CV] END ..................C=0.001, penalty=l1, solver=lbfgs; total time=   0.0s\n",
            "[CV] END ..................C=0.001, penalty=l1, solver=lbfgs; total time=   0.0s\n",
            "[CV] END ..............C=0.001, penalty=l1, solver=liblinear; total time=   0.0s\n",
            "[CV] END ..............C=0.001, penalty=l1, solver=liblinear; total time=   0.0s\n",
            "[CV] END ..............C=0.001, penalty=l1, solver=liblinear; total time=   0.0s\n",
            "[CV] END ..............C=0.001, penalty=l1, solver=liblinear; total time=   0.0s\n",
            "[CV] END ..............C=0.001, penalty=l1, solver=liblinear; total time=   0.0s\n",
            "[CV] END ....................C=0.001, penalty=l1, solver=sag; total time=   0.0s\n",
            "[CV] END ....................C=0.001, penalty=l1, solver=sag; total time=   0.0s\n",
            "[CV] END ....................C=0.001, penalty=l1, solver=sag; total time=   0.0s\n",
            "[CV] END ....................C=0.001, penalty=l1, solver=sag; total time=   0.0s\n",
            "[CV] END ....................C=0.001, penalty=l1, solver=sag; total time=   0.0s\n",
            "[CV] END ..............C=0.001, penalty=l2, solver=newton-cg; total time=   0.0s\n",
            "[CV] END ..............C=0.001, penalty=l2, solver=newton-cg; total time=   0.0s\n",
            "[CV] END ..............C=0.001, penalty=l2, solver=newton-cg; total time=   0.0s\n",
            "[CV] END ..............C=0.001, penalty=l2, solver=newton-cg; total time=   0.0s\n",
            "[CV] END ..............C=0.001, penalty=l2, solver=newton-cg; total time=   0.0s\n",
            "[CV] END ..................C=0.001, penalty=l2, solver=lbfgs; total time=   0.0s\n",
            "[CV] END ..................C=0.001, penalty=l2, solver=lbfgs; total time=   0.0s\n",
            "[CV] END ..................C=0.001, penalty=l2, solver=lbfgs; total time=   0.0s\n",
            "[CV] END ..................C=0.001, penalty=l2, solver=lbfgs; total time=   0.0s\n",
            "[CV] END ..................C=0.001, penalty=l2, solver=lbfgs; total time=   0.0s\n",
            "[CV] END ..............C=0.001, penalty=l2, solver=liblinear; total time=   0.0s\n",
            "[CV] END ..............C=0.001, penalty=l2, solver=liblinear; total time=   0.0s\n",
            "[CV] END ..............C=0.001, penalty=l2, solver=liblinear; total time=   0.0s\n",
            "[CV] END ..............C=0.001, penalty=l2, solver=liblinear; total time=   0.0s\n",
            "[CV] END ..............C=0.001, penalty=l2, solver=liblinear; total time=   0.0s\n",
            "[CV] END ....................C=0.001, penalty=l2, solver=sag; total time=   0.0s\n",
            "[CV] END ....................C=0.001, penalty=l2, solver=sag; total time=   0.0s\n",
            "[CV] END ....................C=0.001, penalty=l2, solver=sag; total time=   0.0s\n",
            "[CV] END ....................C=0.001, penalty=l2, solver=sag; total time=   0.0s\n",
            "[CV] END ....................C=0.001, penalty=l2, solver=sag; total time=   0.0s\n",
            "[CV] END ...............C=0.01, penalty=l1, solver=newton-cg; total time=   0.0s\n",
            "[CV] END ...............C=0.01, penalty=l1, solver=newton-cg; total time=   0.0s\n",
            "[CV] END ...............C=0.01, penalty=l1, solver=newton-cg; total time=   0.0s\n",
            "[CV] END ...............C=0.01, penalty=l1, solver=newton-cg; total time=   0.0s\n",
            "[CV] END ...............C=0.01, penalty=l1, solver=newton-cg; total time=   0.0s\n",
            "[CV] END ...................C=0.01, penalty=l1, solver=lbfgs; total time=   0.0s\n",
            "[CV] END ...................C=0.01, penalty=l1, solver=lbfgs; total time=   0.0s\n",
            "[CV] END ...................C=0.01, penalty=l1, solver=lbfgs; total time=   0.0s\n",
            "[CV] END ...................C=0.01, penalty=l1, solver=lbfgs; total time=   0.0s\n",
            "[CV] END ...................C=0.01, penalty=l1, solver=lbfgs; total time=   0.0s\n",
            "[CV] END ...............C=0.01, penalty=l1, solver=liblinear; total time=   0.0s\n",
            "[CV] END ...............C=0.01, penalty=l1, solver=liblinear; total time=   0.0s\n",
            "[CV] END ...............C=0.01, penalty=l1, solver=liblinear; total time=   0.0s\n",
            "[CV] END ...............C=0.01, penalty=l1, solver=liblinear; total time=   0.0s\n",
            "[CV] END ...............C=0.01, penalty=l1, solver=liblinear; total time=   0.0s\n",
            "[CV] END .....................C=0.01, penalty=l1, solver=sag; total time=   0.0s\n",
            "[CV] END .....................C=0.01, penalty=l1, solver=sag; total time=   0.0s\n",
            "[CV] END .....................C=0.01, penalty=l1, solver=sag; total time=   0.0s\n",
            "[CV] END .....................C=0.01, penalty=l1, solver=sag; total time=   0.0s\n",
            "[CV] END .....................C=0.01, penalty=l1, solver=sag; total time=   0.0s\n",
            "[CV] END ...............C=0.01, penalty=l2, solver=newton-cg; total time=   0.0s\n",
            "[CV] END ...............C=0.01, penalty=l2, solver=newton-cg; total time=   0.0s\n",
            "[CV] END ...............C=0.01, penalty=l2, solver=newton-cg; total time=   0.0s\n",
            "[CV] END ...............C=0.01, penalty=l2, solver=newton-cg; total time=   0.0s\n",
            "[CV] END ...............C=0.01, penalty=l2, solver=newton-cg; total time=   0.0s\n",
            "[CV] END ...................C=0.01, penalty=l2, solver=lbfgs; total time=   0.0s\n",
            "[CV] END ...................C=0.01, penalty=l2, solver=lbfgs; total time=   0.0s\n",
            "[CV] END ...................C=0.01, penalty=l2, solver=lbfgs; total time=   0.0s\n",
            "[CV] END ...................C=0.01, penalty=l2, solver=lbfgs; total time=   0.0s\n",
            "[CV] END ...................C=0.01, penalty=l2, solver=lbfgs; total time=   0.0s\n",
            "[CV] END ...............C=0.01, penalty=l2, solver=liblinear; total time=   0.0s\n",
            "[CV] END ...............C=0.01, penalty=l2, solver=liblinear; total time=   0.0s\n",
            "[CV] END ...............C=0.01, penalty=l2, solver=liblinear; total time=   0.0s\n",
            "[CV] END ...............C=0.01, penalty=l2, solver=liblinear; total time=   0.0s\n",
            "[CV] END ...............C=0.01, penalty=l2, solver=liblinear; total time=   0.0s\n",
            "[CV] END .....................C=0.01, penalty=l2, solver=sag; total time=   0.0s\n",
            "[CV] END .....................C=0.01, penalty=l2, solver=sag; total time=   0.0s\n",
            "[CV] END .....................C=0.01, penalty=l2, solver=sag; total time=   0.0s\n",
            "[CV] END .....................C=0.01, penalty=l2, solver=sag; total time=   0.0s\n",
            "[CV] END .....................C=0.01, penalty=l2, solver=sag; total time=   0.0s\n",
            "[CV] END ................C=0.1, penalty=l1, solver=newton-cg; total time=   0.0s\n",
            "[CV] END ................C=0.1, penalty=l1, solver=newton-cg; total time=   0.0s\n",
            "[CV] END ................C=0.1, penalty=l1, solver=newton-cg; total time=   0.0s\n",
            "[CV] END ................C=0.1, penalty=l1, solver=newton-cg; total time=   0.0s\n",
            "[CV] END ................C=0.1, penalty=l1, solver=newton-cg; total time=   0.0s\n",
            "[CV] END ....................C=0.1, penalty=l1, solver=lbfgs; total time=   0.0s\n",
            "[CV] END ....................C=0.1, penalty=l1, solver=lbfgs; total time=   0.0s\n",
            "[CV] END ....................C=0.1, penalty=l1, solver=lbfgs; total time=   0.0s\n",
            "[CV] END ....................C=0.1, penalty=l1, solver=lbfgs; total time=   0.0s\n",
            "[CV] END ....................C=0.1, penalty=l1, solver=lbfgs; total time=   0.0s\n",
            "[CV] END ................C=0.1, penalty=l1, solver=liblinear; total time=   0.0s\n",
            "[CV] END ................C=0.1, penalty=l1, solver=liblinear; total time=   0.0s\n",
            "[CV] END ................C=0.1, penalty=l1, solver=liblinear; total time=   0.0s\n",
            "[CV] END ................C=0.1, penalty=l1, solver=liblinear; total time=   0.0s\n",
            "[CV] END ................C=0.1, penalty=l1, solver=liblinear; total time=   0.0s\n",
            "[CV] END ......................C=0.1, penalty=l1, solver=sag; total time=   0.0s\n",
            "[CV] END ......................C=0.1, penalty=l1, solver=sag; total time=   0.0s\n",
            "[CV] END ......................C=0.1, penalty=l1, solver=sag; total time=   0.0s\n",
            "[CV] END ......................C=0.1, penalty=l1, solver=sag; total time=   0.0s\n",
            "[CV] END ......................C=0.1, penalty=l1, solver=sag; total time=   0.0s\n",
            "[CV] END ................C=0.1, penalty=l2, solver=newton-cg; total time=   0.0s\n",
            "[CV] END ................C=0.1, penalty=l2, solver=newton-cg; total time=   0.0s\n",
            "[CV] END ................C=0.1, penalty=l2, solver=newton-cg; total time=   0.0s\n",
            "[CV] END ................C=0.1, penalty=l2, solver=newton-cg; total time=   0.0s\n",
            "[CV] END ................C=0.1, penalty=l2, solver=newton-cg; total time=   0.0s\n",
            "[CV] END ....................C=0.1, penalty=l2, solver=lbfgs; total time=   0.0s\n",
            "[CV] END ....................C=0.1, penalty=l2, solver=lbfgs; total time=   0.0s\n",
            "[CV] END ....................C=0.1, penalty=l2, solver=lbfgs; total time=   0.0s\n",
            "[CV] END ....................C=0.1, penalty=l2, solver=lbfgs; total time=   0.0s\n",
            "[CV] END ....................C=0.1, penalty=l2, solver=lbfgs; total time=   0.0s\n",
            "[CV] END ................C=0.1, penalty=l2, solver=liblinear; total time=   0.0s\n",
            "[CV] END ................C=0.1, penalty=l2, solver=liblinear; total time=   0.0s\n",
            "[CV] END ................C=0.1, penalty=l2, solver=liblinear; total time=   0.0s\n",
            "[CV] END ................C=0.1, penalty=l2, solver=liblinear; total time=   0.0s\n",
            "[CV] END ................C=0.1, penalty=l2, solver=liblinear; total time=   0.0s\n",
            "[CV] END ......................C=0.1, penalty=l2, solver=sag; total time=   0.0s\n",
            "[CV] END ......................C=0.1, penalty=l2, solver=sag; total time=   0.0s\n",
            "[CV] END ......................C=0.1, penalty=l2, solver=sag; total time=   0.0s\n",
            "[CV] END ......................C=0.1, penalty=l2, solver=sag; total time=   0.0s\n",
            "[CV] END ......................C=0.1, penalty=l2, solver=sag; total time=   0.0s\n",
            "[CV] END ..................C=1, penalty=l1, solver=newton-cg; total time=   0.0s\n",
            "[CV] END ..................C=1, penalty=l1, solver=newton-cg; total time=   0.0s\n",
            "[CV] END ..................C=1, penalty=l1, solver=newton-cg; total time=   0.0s\n",
            "[CV] END ..................C=1, penalty=l1, solver=newton-cg; total time=   0.0s\n",
            "[CV] END ..................C=1, penalty=l1, solver=newton-cg; total time=   0.0s\n",
            "[CV] END ......................C=1, penalty=l1, solver=lbfgs; total time=   0.0s\n",
            "[CV] END ......................C=1, penalty=l1, solver=lbfgs; total time=   0.0s\n",
            "[CV] END ......................C=1, penalty=l1, solver=lbfgs; total time=   0.0s\n",
            "[CV] END ......................C=1, penalty=l1, solver=lbfgs; total time=   0.0s\n",
            "[CV] END ......................C=1, penalty=l1, solver=lbfgs; total time=   0.0s\n",
            "[CV] END ..................C=1, penalty=l1, solver=liblinear; total time=   0.0s\n",
            "[CV] END ..................C=1, penalty=l1, solver=liblinear; total time=   0.0s\n",
            "[CV] END ..................C=1, penalty=l1, solver=liblinear; total time=   0.0s\n",
            "[CV] END ..................C=1, penalty=l1, solver=liblinear; total time=   0.0s\n",
            "[CV] END ..................C=1, penalty=l1, solver=liblinear; total time=   0.0s\n",
            "[CV] END ........................C=1, penalty=l1, solver=sag; total time=   0.0s\n",
            "[CV] END ........................C=1, penalty=l1, solver=sag; total time=   0.0s\n",
            "[CV] END ........................C=1, penalty=l1, solver=sag; total time=   0.0s\n",
            "[CV] END ........................C=1, penalty=l1, solver=sag; total time=   0.0s\n",
            "[CV] END ........................C=1, penalty=l1, solver=sag; total time=   0.0s\n",
            "[CV] END ..................C=1, penalty=l2, solver=newton-cg; total time=   0.0s\n",
            "[CV] END ..................C=1, penalty=l2, solver=newton-cg; total time=   0.0s\n",
            "[CV] END ..................C=1, penalty=l2, solver=newton-cg; total time=   0.0s\n",
            "[CV] END ..................C=1, penalty=l2, solver=newton-cg; total time=   0.0s\n",
            "[CV] END ..................C=1, penalty=l2, solver=newton-cg; total time=   0.0s\n",
            "[CV] END ......................C=1, penalty=l2, solver=lbfgs; total time=   0.0s\n",
            "[CV] END ......................C=1, penalty=l2, solver=lbfgs; total time=   0.0s\n",
            "[CV] END ......................C=1, penalty=l2, solver=lbfgs; total time=   0.0s\n",
            "[CV] END ......................C=1, penalty=l2, solver=lbfgs; total time=   0.0s\n",
            "[CV] END ......................C=1, penalty=l2, solver=lbfgs; total time=   0.0s\n",
            "[CV] END ..................C=1, penalty=l2, solver=liblinear; total time=   0.0s\n",
            "[CV] END ..................C=1, penalty=l2, solver=liblinear; total time=   0.0s\n",
            "[CV] END ..................C=1, penalty=l2, solver=liblinear; total time=   0.0s\n",
            "[CV] END ..................C=1, penalty=l2, solver=liblinear; total time=   0.0s\n",
            "[CV] END ..................C=1, penalty=l2, solver=liblinear; total time=   0.0s\n",
            "[CV] END ........................C=1, penalty=l2, solver=sag; total time=   0.0s\n",
            "[CV] END ........................C=1, penalty=l2, solver=sag; total time=   0.0s\n",
            "[CV] END ........................C=1, penalty=l2, solver=sag; total time=   0.0s\n",
            "[CV] END ........................C=1, penalty=l2, solver=sag; total time=   0.0s\n",
            "[CV] END ........................C=1, penalty=l2, solver=sag; total time=   0.0s\n",
            "[CV] END .................C=10, penalty=l1, solver=newton-cg; total time=   0.0s\n",
            "[CV] END .................C=10, penalty=l1, solver=newton-cg; total time=   0.0s\n",
            "[CV] END .................C=10, penalty=l1, solver=newton-cg; total time=   0.0s\n",
            "[CV] END .................C=10, penalty=l1, solver=newton-cg; total time=   0.0s\n",
            "[CV] END .................C=10, penalty=l1, solver=newton-cg; total time=   0.0s\n",
            "[CV] END .....................C=10, penalty=l1, solver=lbfgs; total time=   0.0s\n",
            "[CV] END .....................C=10, penalty=l1, solver=lbfgs; total time=   0.0s\n",
            "[CV] END .....................C=10, penalty=l1, solver=lbfgs; total time=   0.0s\n",
            "[CV] END .....................C=10, penalty=l1, solver=lbfgs; total time=   0.0s\n",
            "[CV] END .....................C=10, penalty=l1, solver=lbfgs; total time=   0.0s\n",
            "[CV] END .................C=10, penalty=l1, solver=liblinear; total time=   0.0s\n",
            "[CV] END .................C=10, penalty=l1, solver=liblinear; total time=   0.0s\n",
            "[CV] END .................C=10, penalty=l1, solver=liblinear; total time=   0.0s\n",
            "[CV] END .................C=10, penalty=l1, solver=liblinear; total time=   0.0s\n",
            "[CV] END .................C=10, penalty=l1, solver=liblinear; total time=   0.0s\n",
            "[CV] END .......................C=10, penalty=l1, solver=sag; total time=   0.0s\n",
            "[CV] END .......................C=10, penalty=l1, solver=sag; total time=   0.0s\n",
            "[CV] END .......................C=10, penalty=l1, solver=sag; total time=   0.0s\n",
            "[CV] END .......................C=10, penalty=l1, solver=sag; total time=   0.0s\n",
            "[CV] END .......................C=10, penalty=l1, solver=sag; total time=   0.0s\n",
            "[CV] END .................C=10, penalty=l2, solver=newton-cg; total time=   0.0s\n",
            "[CV] END .................C=10, penalty=l2, solver=newton-cg; total time=   0.0s\n",
            "[CV] END .................C=10, penalty=l2, solver=newton-cg; total time=   0.0s\n",
            "[CV] END .................C=10, penalty=l2, solver=newton-cg; total time=   0.0s\n",
            "[CV] END .................C=10, penalty=l2, solver=newton-cg; total time=   0.0s\n",
            "[CV] END .....................C=10, penalty=l2, solver=lbfgs; total time=   0.0s\n",
            "[CV] END .....................C=10, penalty=l2, solver=lbfgs; total time=   0.0s\n",
            "[CV] END .....................C=10, penalty=l2, solver=lbfgs; total time=   0.0s\n",
            "[CV] END .....................C=10, penalty=l2, solver=lbfgs; total time=   0.0s\n",
            "[CV] END .....................C=10, penalty=l2, solver=lbfgs; total time=   0.0s\n",
            "[CV] END .................C=10, penalty=l2, solver=liblinear; total time=   0.0s\n",
            "[CV] END .................C=10, penalty=l2, solver=liblinear; total time=   0.0s\n",
            "[CV] END .................C=10, penalty=l2, solver=liblinear; total time=   0.0s\n",
            "[CV] END .................C=10, penalty=l2, solver=liblinear; total time=   0.0s\n",
            "[CV] END .................C=10, penalty=l2, solver=liblinear; total time=   0.0s\n",
            "[CV] END .......................C=10, penalty=l2, solver=sag; total time=   0.0s\n",
            "[CV] END .......................C=10, penalty=l2, solver=sag; total time=   0.0s\n",
            "[CV] END .......................C=10, penalty=l2, solver=sag; total time=   0.0s\n",
            "[CV] END .......................C=10, penalty=l2, solver=sag; total time=   0.0s\n",
            "[CV] END .......................C=10, penalty=l2, solver=sag; total time=   0.0s\n"
          ]
        },
        {
          "output_type": "stream",
          "name": "stderr",
          "text": [
            "/usr/local/lib/python3.10/dist-packages/sklearn/linear_model/_sag.py:350: ConvergenceWarning: The max_iter was reached which means the coef_ did not converge\n",
            "  warnings.warn(\n",
            "/usr/local/lib/python3.10/dist-packages/sklearn/linear_model/_sag.py:350: ConvergenceWarning: The max_iter was reached which means the coef_ did not converge\n",
            "  warnings.warn(\n",
            "/usr/local/lib/python3.10/dist-packages/sklearn/linear_model/_sag.py:350: ConvergenceWarning: The max_iter was reached which means the coef_ did not converge\n",
            "  warnings.warn(\n",
            "/usr/local/lib/python3.10/dist-packages/sklearn/linear_model/_sag.py:350: ConvergenceWarning: The max_iter was reached which means the coef_ did not converge\n",
            "  warnings.warn(\n",
            "/usr/local/lib/python3.10/dist-packages/sklearn/linear_model/_sag.py:350: ConvergenceWarning: The max_iter was reached which means the coef_ did not converge\n",
            "  warnings.warn(\n",
            "/usr/local/lib/python3.10/dist-packages/sklearn/model_selection/_validation.py:378: FitFailedWarning: \n",
            "75 fits failed out of a total of 200.\n",
            "The score on these train-test partitions for these parameters will be set to nan.\n",
            "If these failures are not expected, you can try to debug them by setting error_score='raise'.\n",
            "\n",
            "Below are more details about the failures:\n",
            "--------------------------------------------------------------------------------\n",
            "25 fits failed with the following error:\n",
            "Traceback (most recent call last):\n",
            "  File \"/usr/local/lib/python3.10/dist-packages/sklearn/model_selection/_validation.py\", line 686, in _fit_and_score\n",
            "    estimator.fit(X_train, y_train, **fit_params)\n",
            "  File \"/usr/local/lib/python3.10/dist-packages/sklearn/linear_model/_logistic.py\", line 1162, in fit\n",
            "    solver = _check_solver(self.solver, self.penalty, self.dual)\n",
            "  File \"/usr/local/lib/python3.10/dist-packages/sklearn/linear_model/_logistic.py\", line 54, in _check_solver\n",
            "    raise ValueError(\n",
            "ValueError: Solver newton-cg supports only 'l2' or 'none' penalties, got l1 penalty.\n",
            "\n",
            "--------------------------------------------------------------------------------\n",
            "25 fits failed with the following error:\n",
            "Traceback (most recent call last):\n",
            "  File \"/usr/local/lib/python3.10/dist-packages/sklearn/model_selection/_validation.py\", line 686, in _fit_and_score\n",
            "    estimator.fit(X_train, y_train, **fit_params)\n",
            "  File \"/usr/local/lib/python3.10/dist-packages/sklearn/linear_model/_logistic.py\", line 1162, in fit\n",
            "    solver = _check_solver(self.solver, self.penalty, self.dual)\n",
            "  File \"/usr/local/lib/python3.10/dist-packages/sklearn/linear_model/_logistic.py\", line 54, in _check_solver\n",
            "    raise ValueError(\n",
            "ValueError: Solver lbfgs supports only 'l2' or 'none' penalties, got l1 penalty.\n",
            "\n",
            "--------------------------------------------------------------------------------\n",
            "25 fits failed with the following error:\n",
            "Traceback (most recent call last):\n",
            "  File \"/usr/local/lib/python3.10/dist-packages/sklearn/model_selection/_validation.py\", line 686, in _fit_and_score\n",
            "    estimator.fit(X_train, y_train, **fit_params)\n",
            "  File \"/usr/local/lib/python3.10/dist-packages/sklearn/linear_model/_logistic.py\", line 1162, in fit\n",
            "    solver = _check_solver(self.solver, self.penalty, self.dual)\n",
            "  File \"/usr/local/lib/python3.10/dist-packages/sklearn/linear_model/_logistic.py\", line 54, in _check_solver\n",
            "    raise ValueError(\n",
            "ValueError: Solver sag supports only 'l2' or 'none' penalties, got l1 penalty.\n",
            "\n",
            "  warnings.warn(some_fits_failed_message, FitFailedWarning)\n",
            "/usr/local/lib/python3.10/dist-packages/sklearn/model_selection/_search.py:952: UserWarning: One or more of the test scores are non-finite: [       nan        nan 0.33076923        nan 0.69259259 0.69259259\n",
            " 0.96239316 0.69259259        nan        nan 0.33076923        nan\n",
            " 0.97777778 0.97777778 0.97749288 0.97777778        nan        nan\n",
            " 0.97720798        nan 0.97777778 0.97777778 0.97749288 0.97777778\n",
            "        nan        nan 0.99259259        nan 0.97777778 0.97777778\n",
            " 0.98518519 0.97777778        nan        nan 0.98518519        nan\n",
            " 0.97037037 0.97037037 0.98518519 0.97037037]\n",
            "  warnings.warn(\n"
          ]
        },
        {
          "output_type": "execute_result",
          "data": {
            "text/plain": [
              "GridSearchCV(estimator=LogisticRegression(),\n",
              "             param_grid={'C': [0.001, 0.01, 0.1, 1, 10],\n",
              "                         'penalty': ['l1', 'l2'],\n",
              "                         'solver': ['newton-cg', 'lbfgs', 'liblinear', 'sag']},\n",
              "             verbose=2)"
            ],
            "text/html": [
              "<style>#sk-container-id-4 {color: black;background-color: white;}#sk-container-id-4 pre{padding: 0;}#sk-container-id-4 div.sk-toggleable {background-color: white;}#sk-container-id-4 label.sk-toggleable__label {cursor: pointer;display: block;width: 100%;margin-bottom: 0;padding: 0.3em;box-sizing: border-box;text-align: center;}#sk-container-id-4 label.sk-toggleable__label-arrow:before {content: \"▸\";float: left;margin-right: 0.25em;color: #696969;}#sk-container-id-4 label.sk-toggleable__label-arrow:hover:before {color: black;}#sk-container-id-4 div.sk-estimator:hover label.sk-toggleable__label-arrow:before {color: black;}#sk-container-id-4 div.sk-toggleable__content {max-height: 0;max-width: 0;overflow: hidden;text-align: left;background-color: #f0f8ff;}#sk-container-id-4 div.sk-toggleable__content pre {margin: 0.2em;color: black;border-radius: 0.25em;background-color: #f0f8ff;}#sk-container-id-4 input.sk-toggleable__control:checked~div.sk-toggleable__content {max-height: 200px;max-width: 100%;overflow: auto;}#sk-container-id-4 input.sk-toggleable__control:checked~label.sk-toggleable__label-arrow:before {content: \"▾\";}#sk-container-id-4 div.sk-estimator input.sk-toggleable__control:checked~label.sk-toggleable__label {background-color: #d4ebff;}#sk-container-id-4 div.sk-label input.sk-toggleable__control:checked~label.sk-toggleable__label {background-color: #d4ebff;}#sk-container-id-4 input.sk-hidden--visually {border: 0;clip: rect(1px 1px 1px 1px);clip: rect(1px, 1px, 1px, 1px);height: 1px;margin: -1px;overflow: hidden;padding: 0;position: absolute;width: 1px;}#sk-container-id-4 div.sk-estimator {font-family: monospace;background-color: #f0f8ff;border: 1px dotted black;border-radius: 0.25em;box-sizing: border-box;margin-bottom: 0.5em;}#sk-container-id-4 div.sk-estimator:hover {background-color: #d4ebff;}#sk-container-id-4 div.sk-parallel-item::after {content: \"\";width: 100%;border-bottom: 1px solid gray;flex-grow: 1;}#sk-container-id-4 div.sk-label:hover label.sk-toggleable__label {background-color: #d4ebff;}#sk-container-id-4 div.sk-serial::before {content: \"\";position: absolute;border-left: 1px solid gray;box-sizing: border-box;top: 0;bottom: 0;left: 50%;z-index: 0;}#sk-container-id-4 div.sk-serial {display: flex;flex-direction: column;align-items: center;background-color: white;padding-right: 0.2em;padding-left: 0.2em;position: relative;}#sk-container-id-4 div.sk-item {position: relative;z-index: 1;}#sk-container-id-4 div.sk-parallel {display: flex;align-items: stretch;justify-content: center;background-color: white;position: relative;}#sk-container-id-4 div.sk-item::before, #sk-container-id-4 div.sk-parallel-item::before {content: \"\";position: absolute;border-left: 1px solid gray;box-sizing: border-box;top: 0;bottom: 0;left: 50%;z-index: -1;}#sk-container-id-4 div.sk-parallel-item {display: flex;flex-direction: column;z-index: 1;position: relative;background-color: white;}#sk-container-id-4 div.sk-parallel-item:first-child::after {align-self: flex-end;width: 50%;}#sk-container-id-4 div.sk-parallel-item:last-child::after {align-self: flex-start;width: 50%;}#sk-container-id-4 div.sk-parallel-item:only-child::after {width: 0;}#sk-container-id-4 div.sk-dashed-wrapped {border: 1px dashed gray;margin: 0 0.4em 0.5em 0.4em;box-sizing: border-box;padding-bottom: 0.4em;background-color: white;}#sk-container-id-4 div.sk-label label {font-family: monospace;font-weight: bold;display: inline-block;line-height: 1.2em;}#sk-container-id-4 div.sk-label-container {text-align: center;}#sk-container-id-4 div.sk-container {/* jupyter's `normalize.less` sets `[hidden] { display: none; }` but bootstrap.min.css set `[hidden] { display: none !important; }` so we also need the `!important` here to be able to override the default hidden behavior on the sphinx rendered scikit-learn.org. See: https://github.com/scikit-learn/scikit-learn/issues/21755 */display: inline-block !important;position: relative;}#sk-container-id-4 div.sk-text-repr-fallback {display: none;}</style><div id=\"sk-container-id-4\" class=\"sk-top-container\"><div class=\"sk-text-repr-fallback\"><pre>GridSearchCV(estimator=LogisticRegression(),\n",
              "             param_grid={&#x27;C&#x27;: [0.001, 0.01, 0.1, 1, 10],\n",
              "                         &#x27;penalty&#x27;: [&#x27;l1&#x27;, &#x27;l2&#x27;],\n",
              "                         &#x27;solver&#x27;: [&#x27;newton-cg&#x27;, &#x27;lbfgs&#x27;, &#x27;liblinear&#x27;, &#x27;sag&#x27;]},\n",
              "             verbose=2)</pre><b>In a Jupyter environment, please rerun this cell to show the HTML representation or trust the notebook. <br />On GitHub, the HTML representation is unable to render, please try loading this page with nbviewer.org.</b></div><div class=\"sk-container\" hidden><div class=\"sk-item sk-dashed-wrapped\"><div class=\"sk-label-container\"><div class=\"sk-label sk-toggleable\"><input class=\"sk-toggleable__control sk-hidden--visually\" id=\"sk-estimator-id-10\" type=\"checkbox\" ><label for=\"sk-estimator-id-10\" class=\"sk-toggleable__label sk-toggleable__label-arrow\">GridSearchCV</label><div class=\"sk-toggleable__content\"><pre>GridSearchCV(estimator=LogisticRegression(),\n",
              "             param_grid={&#x27;C&#x27;: [0.001, 0.01, 0.1, 1, 10],\n",
              "                         &#x27;penalty&#x27;: [&#x27;l1&#x27;, &#x27;l2&#x27;],\n",
              "                         &#x27;solver&#x27;: [&#x27;newton-cg&#x27;, &#x27;lbfgs&#x27;, &#x27;liblinear&#x27;, &#x27;sag&#x27;]},\n",
              "             verbose=2)</pre></div></div></div><div class=\"sk-parallel\"><div class=\"sk-parallel-item\"><div class=\"sk-item\"><div class=\"sk-label-container\"><div class=\"sk-label sk-toggleable\"><input class=\"sk-toggleable__control sk-hidden--visually\" id=\"sk-estimator-id-11\" type=\"checkbox\" ><label for=\"sk-estimator-id-11\" class=\"sk-toggleable__label sk-toggleable__label-arrow\">estimator: LogisticRegression</label><div class=\"sk-toggleable__content\"><pre>LogisticRegression()</pre></div></div></div><div class=\"sk-serial\"><div class=\"sk-item\"><div class=\"sk-estimator sk-toggleable\"><input class=\"sk-toggleable__control sk-hidden--visually\" id=\"sk-estimator-id-12\" type=\"checkbox\" ><label for=\"sk-estimator-id-12\" class=\"sk-toggleable__label sk-toggleable__label-arrow\">LogisticRegression</label><div class=\"sk-toggleable__content\"><pre>LogisticRegression()</pre></div></div></div></div></div></div></div></div></div></div>"
            ]
          },
          "metadata": {},
          "execution_count": 61
        }
      ]
    },
    {
      "cell_type": "code",
      "source": [
        "#Mejores parámetros hallados\n",
        "gs.best_params_\n"
      ],
      "metadata": {
        "colab": {
          "base_uri": "https://localhost:8080/"
        },
        "id": "XjbCcGNZKzc3",
        "outputId": "eed3d40b-8ba0-4112-dc84-cf4d3f9a86b0"
      },
      "execution_count": 62,
      "outputs": [
        {
          "output_type": "execute_result",
          "data": {
            "text/plain": [
              "{'C': 1, 'penalty': 'l1', 'solver': 'liblinear'}"
            ]
          },
          "metadata": {},
          "execution_count": 62
        }
      ]
    },
    {
      "cell_type": "code",
      "source": [
        "#Verificamos los parámetros con el conjunto de prueba\n",
        "#Primero se instancia el modelo con los mejores parámetros:\n",
        "log_reg=LogisticRegression(C=1,penalty='l2',solver='liblinear')\n",
        "#Ajustamos el modelo al conjunto de entrenamiento:\n",
        "log_reg.fit(X_train_pro,y_train)\n",
        "#Encontramos las predicciones del modelo para el conjunto de prueba\n",
        "y_pred=log_reg.predict(X_test_pro)\n",
        "#Classification report para verificar exactitud, precisión, recall, f1\n",
        "print(classification_report(y_test,y_pred))"
      ],
      "metadata": {
        "colab": {
          "base_uri": "https://localhost:8080/"
        },
        "id": "ogUhykkjL6yc",
        "outputId": "eb25cba2-4ad4-4c09-eacc-94cabcf813fd"
      },
      "execution_count": 63,
      "outputs": [
        {
          "output_type": "stream",
          "name": "stdout",
          "text": [
            "              precision    recall  f1-score   support\n",
            "\n",
            "           1       0.94      1.00      0.97        15\n",
            "           2       1.00      0.94      0.97        18\n",
            "           3       1.00      1.00      1.00        12\n",
            "\n",
            "    accuracy                           0.98        45\n",
            "   macro avg       0.98      0.98      0.98        45\n",
            "weighted avg       0.98      0.98      0.98        45\n",
            "\n"
          ]
        }
      ]
    },
    {
      "cell_type": "code",
      "source": [
        "cm=confusion_matrix(y_test, y_pred)\n",
        "#Matriz de confusión, se usa un mapa de colores púrpuras\n",
        "disp = ConfusionMatrixDisplay(confusion_matrix=cm, display_labels=y.unique().tolist())\n",
        "disp.plot(cmap='Purples');\n",
        "plt.title('Modelo Decision Tree')"
      ],
      "metadata": {
        "colab": {
          "base_uri": "https://localhost:8080/",
          "height": 489
        },
        "id": "ewvS8vR7O4Gj",
        "outputId": "d46845ac-2f2b-44c0-d343-01b2e53e56f9"
      },
      "execution_count": 64,
      "outputs": [
        {
          "output_type": "execute_result",
          "data": {
            "text/plain": [
              "Text(0.5, 1.0, 'Modelo Decision Tree')"
            ]
          },
          "metadata": {},
          "execution_count": 64
        },
        {
          "output_type": "display_data",
          "data": {
            "text/plain": [
              "<Figure size 640x480 with 2 Axes>"
            ],
            "image/png": "[encoded data removed]"
          },
          "metadata": {}
        }
      ]
    },
    {
      "cell_type": "markdown",
      "source": [
        "El regresor logístico clasifica 15 como 1, 17 como de tipo 2 y 12 como de tipo 3.  En general, según el f1, el modelo es mejor para clasificar uva tipo 3.  Pero igual se comporta muy bien para clasificar uva tipo 2, y tipo 1, con 97%."
      ],
      "metadata": {
        "id": "iLIyoDNoQEEq"
      }
    },
    {
      "cell_type": "markdown",
      "source": [
        "- **Aplicación de RF**"
      ],
      "metadata": {
        "id": "MxOF5hwsQk4a"
      }
    },
    {
      "cell_type": "code",
      "source": [
        "#Utilizamos GridSearchCV para encontrar los mejores parámetros paa el modelo de\n",
        "#Random Forest\n",
        "\n",
        "#Ahora pm contiene los hiperparámetros del modelo\n",
        "pm = {\n",
        "    #'n_estimators': [10, 50, 100, 200, 500],\n",
        "    'max_depth': [5, 10, 15, 20],\n",
        "    'min_samples_split': [2, 5],\n",
        "    'min_samples_leaf': [2, 3]\n",
        "}\n",
        "\n",
        "\n",
        "gs = GridSearchCV(RandomForestClassifier(), pm, refit=True, verbose=2)\n",
        "gs.fit(X_train_pro, y_train) #Entrenamiento con X_train y y_train"
      ],
      "metadata": {
        "colab": {
          "base_uri": "https://localhost:8080/",
          "height": 1000
        },
        "id": "YjRdLTzHQMQK",
        "outputId": "4cce9cde-e50c-40e8-eea1-227c306f2099"
      },
      "execution_count": 65,
      "outputs": [
        {
          "output_type": "stream",
          "name": "stdout",
          "text": [
            "Fitting 5 folds for each of 16 candidates, totalling 80 fits\n",
            "[CV] END max_depth=5, min_samples_leaf=2, min_samples_split=2; total time=   0.2s\n",
            "[CV] END max_depth=5, min_samples_leaf=2, min_samples_split=2; total time=   0.2s\n",
            "[CV] END max_depth=5, min_samples_leaf=2, min_samples_split=2; total time=   0.2s\n",
            "[CV] END max_depth=5, min_samples_leaf=2, min_samples_split=2; total time=   0.2s\n",
            "[CV] END max_depth=5, min_samples_leaf=2, min_samples_split=2; total time=   0.2s\n",
            "[CV] END max_depth=5, min_samples_leaf=2, min_samples_split=5; total time=   0.2s\n",
            "[CV] END max_depth=5, min_samples_leaf=2, min_samples_split=5; total time=   0.1s\n",
            "[CV] END max_depth=5, min_samples_leaf=2, min_samples_split=5; total time=   0.2s\n",
            "[CV] END max_depth=5, min_samples_leaf=2, min_samples_split=5; total time=   0.2s\n",
            "[CV] END max_depth=5, min_samples_leaf=2, min_samples_split=5; total time=   0.2s\n",
            "[CV] END max_depth=5, min_samples_leaf=3, min_samples_split=2; total time=   0.2s\n",
            "[CV] END max_depth=5, min_samples_leaf=3, min_samples_split=2; total time=   0.2s\n",
            "[CV] END max_depth=5, min_samples_leaf=3, min_samples_split=2; total time=   0.2s\n",
            "[CV] END max_depth=5, min_samples_leaf=3, min_samples_split=2; total time=   0.2s\n",
            "[CV] END max_depth=5, min_samples_leaf=3, min_samples_split=2; total time=   0.2s\n",
            "[CV] END max_depth=5, min_samples_leaf=3, min_samples_split=5; total time=   0.2s\n",
            "[CV] END max_depth=5, min_samples_leaf=3, min_samples_split=5; total time=   0.2s\n",
            "[CV] END max_depth=5, min_samples_leaf=3, min_samples_split=5; total time=   0.2s\n",
            "[CV] END max_depth=5, min_samples_leaf=3, min_samples_split=5; total time=   0.2s\n",
            "[CV] END max_depth=5, min_samples_leaf=3, min_samples_split=5; total time=   0.2s\n",
            "[CV] END max_depth=10, min_samples_leaf=2, min_samples_split=2; total time=   0.2s\n",
            "[CV] END max_depth=10, min_samples_leaf=2, min_samples_split=2; total time=   0.2s\n",
            "[CV] END max_depth=10, min_samples_leaf=2, min_samples_split=2; total time=   0.2s\n",
            "[CV] END max_depth=10, min_samples_leaf=2, min_samples_split=2; total time=   0.2s\n",
            "[CV] END max_depth=10, min_samples_leaf=2, min_samples_split=2; total time=   0.2s\n",
            "[CV] END max_depth=10, min_samples_leaf=2, min_samples_split=5; total time=   0.2s\n",
            "[CV] END max_depth=10, min_samples_leaf=2, min_samples_split=5; total time=   0.2s\n",
            "[CV] END max_depth=10, min_samples_leaf=2, min_samples_split=5; total time=   0.2s\n",
            "[CV] END max_depth=10, min_samples_leaf=2, min_samples_split=5; total time=   0.2s\n",
            "[CV] END max_depth=10, min_samples_leaf=2, min_samples_split=5; total time=   0.2s\n",
            "[CV] END max_depth=10, min_samples_leaf=3, min_samples_split=2; total time=   0.2s\n",
            "[CV] END max_depth=10, min_samples_leaf=3, min_samples_split=2; total time=   0.2s\n",
            "[CV] END max_depth=10, min_samples_leaf=3, min_samples_split=2; total time=   0.2s\n",
            "[CV] END max_depth=10, min_samples_leaf=3, min_samples_split=2; total time=   0.2s\n",
            "[CV] END max_depth=10, min_samples_leaf=3, min_samples_split=2; total time=   0.2s\n",
            "[CV] END max_depth=10, min_samples_leaf=3, min_samples_split=5; total time=   0.2s\n",
            "[CV] END max_depth=10, min_samples_leaf=3, min_samples_split=5; total time=   0.2s\n",
            "[CV] END max_depth=10, min_samples_leaf=3, min_samples_split=5; total time=   0.2s\n",
            "[CV] END max_depth=10, min_samples_leaf=3, min_samples_split=5; total time=   0.2s\n",
            "[CV] END max_depth=10, min_samples_leaf=3, min_samples_split=5; total time=   0.2s\n",
            "[CV] END max_depth=15, min_samples_leaf=2, min_samples_split=2; total time=   0.2s\n",
            "[CV] END max_depth=15, min_samples_leaf=2, min_samples_split=2; total time=   0.2s\n",
            "[CV] END max_depth=15, min_samples_leaf=2, min_samples_split=2; total time=   0.2s\n",
            "[CV] END max_depth=15, min_samples_leaf=2, min_samples_split=2; total time=   0.2s\n",
            "[CV] END max_depth=15, min_samples_leaf=2, min_samples_split=2; total time=   0.2s\n",
            "[CV] END max_depth=15, min_samples_leaf=2, min_samples_split=5; total time=   0.2s\n",
            "[CV] END max_depth=15, min_samples_leaf=2, min_samples_split=5; total time=   0.2s\n",
            "[CV] END max_depth=15, min_samples_leaf=2, min_samples_split=5; total time=   0.2s\n",
            "[CV] END max_depth=15, min_samples_leaf=2, min_samples_split=5; total time=   0.2s\n",
            "[CV] END max_depth=15, min_samples_leaf=2, min_samples_split=5; total time=   0.2s\n",
            "[CV] END max_depth=15, min_samples_leaf=3, min_samples_split=2; total time=   1.0s\n",
            "[CV] END max_depth=15, min_samples_leaf=3, min_samples_split=2; total time=   0.9s\n",
            "[CV] END max_depth=15, min_samples_leaf=3, min_samples_split=2; total time=   0.3s\n",
            "[CV] END max_depth=15, min_samples_leaf=3, min_samples_split=2; total time=   0.3s\n",
            "[CV] END max_depth=15, min_samples_leaf=3, min_samples_split=2; total time=   0.3s\n",
            "[CV] END max_depth=15, min_samples_leaf=3, min_samples_split=5; total time=   0.3s\n",
            "[CV] END max_depth=15, min_samples_leaf=3, min_samples_split=5; total time=   0.3s\n",
            "[CV] END max_depth=15, min_samples_leaf=3, min_samples_split=5; total time=   0.3s\n",
            "[CV] END max_depth=15, min_samples_leaf=3, min_samples_split=5; total time=   0.3s\n",
            "[CV] END max_depth=15, min_samples_leaf=3, min_samples_split=5; total time=   0.2s\n",
            "[CV] END max_depth=20, min_samples_leaf=2, min_samples_split=2; total time=   0.2s\n",
            "[CV] END max_depth=20, min_samples_leaf=2, min_samples_split=2; total time=   0.2s\n",
            "[CV] END max_depth=20, min_samples_leaf=2, min_samples_split=2; total time=   0.2s\n",
            "[CV] END max_depth=20, min_samples_leaf=2, min_samples_split=2; total time=   0.2s\n",
            "[CV] END max_depth=20, min_samples_leaf=2, min_samples_split=2; total time=   0.2s\n",
            "[CV] END max_depth=20, min_samples_leaf=2, min_samples_split=5; total time=   0.2s\n",
            "[CV] END max_depth=20, min_samples_leaf=2, min_samples_split=5; total time=   0.2s\n",
            "[CV] END max_depth=20, min_samples_leaf=2, min_samples_split=5; total time=   0.2s\n",
            "[CV] END max_depth=20, min_samples_leaf=2, min_samples_split=5; total time=   0.2s\n",
            "[CV] END max_depth=20, min_samples_leaf=2, min_samples_split=5; total time=   0.2s\n",
            "[CV] END max_depth=20, min_samples_leaf=3, min_samples_split=2; total time=   0.2s\n",
            "[CV] END max_depth=20, min_samples_leaf=3, min_samples_split=2; total time=   0.1s\n",
            "[CV] END max_depth=20, min_samples_leaf=3, min_samples_split=2; total time=   0.2s\n",
            "[CV] END max_depth=20, min_samples_leaf=3, min_samples_split=2; total time=   0.1s\n",
            "[CV] END max_depth=20, min_samples_leaf=3, min_samples_split=2; total time=   0.2s\n",
            "[CV] END max_depth=20, min_samples_leaf=3, min_samples_split=5; total time=   0.2s\n",
            "[CV] END max_depth=20, min_samples_leaf=3, min_samples_split=5; total time=   0.2s\n",
            "[CV] END max_depth=20, min_samples_leaf=3, min_samples_split=5; total time=   0.2s\n",
            "[CV] END max_depth=20, min_samples_leaf=3, min_samples_split=5; total time=   0.2s\n",
            "[CV] END max_depth=20, min_samples_leaf=3, min_samples_split=5; total time=   0.1s\n"
          ]
        },
        {
          "output_type": "execute_result",
          "data": {
            "text/plain": [
              "GridSearchCV(estimator=RandomForestClassifier(),\n",
              "             param_grid={'max_depth': [5, 10, 15, 20],\n",
              "                         'min_samples_leaf': [2, 3],\n",
              "                         'min_samples_split': [2, 5]},\n",
              "             verbose=2)"
            ],
            "text/html": [
              "<style>#sk-container-id-5 {color: black;background-color: white;}#sk-container-id-5 pre{padding: 0;}#sk-container-id-5 div.sk-toggleable {background-color: white;}#sk-container-id-5 label.sk-toggleable__label {cursor: pointer;display: block;width: 100%;margin-bottom: 0;padding: 0.3em;box-sizing: border-box;text-align: center;}#sk-container-id-5 label.sk-toggleable__label-arrow:before {content: \"▸\";float: left;margin-right: 0.25em;color: #696969;}#sk-container-id-5 label.sk-toggleable__label-arrow:hover:before {color: black;}#sk-container-id-5 div.sk-estimator:hover label.sk-toggleable__label-arrow:before {color: black;}#sk-container-id-5 div.sk-toggleable__content {max-height: 0;max-width: 0;overflow: hidden;text-align: left;background-color: #f0f8ff;}#sk-container-id-5 div.sk-toggleable__content pre {margin: 0.2em;color: black;border-radius: 0.25em;background-color: #f0f8ff;}#sk-container-id-5 input.sk-toggleable__control:checked~div.sk-toggleable__content {max-height: 200px;max-width: 100%;overflow: auto;}#sk-container-id-5 input.sk-toggleable__control:checked~label.sk-toggleable__label-arrow:before {content: \"▾\";}#sk-container-id-5 div.sk-estimator input.sk-toggleable__control:checked~label.sk-toggleable__label {background-color: #d4ebff;}#sk-container-id-5 div.sk-label input.sk-toggleable__control:checked~label.sk-toggleable__label {background-color: #d4ebff;}#sk-container-id-5 input.sk-hidden--visually {border: 0;clip: rect(1px 1px 1px 1px);clip: rect(1px, 1px, 1px, 1px);height: 1px;margin: -1px;overflow: hidden;padding: 0;position: absolute;width: 1px;}#sk-container-id-5 div.sk-estimator {font-family: monospace;background-color: #f0f8ff;border: 1px dotted black;border-radius: 0.25em;box-sizing: border-box;margin-bottom: 0.5em;}#sk-container-id-5 div.sk-estimator:hover {background-color: #d4ebff;}#sk-container-id-5 div.sk-parallel-item::after {content: \"\";width: 100%;border-bottom: 1px solid gray;flex-grow: 1;}#sk-container-id-5 div.sk-label:hover label.sk-toggleable__label {background-color: #d4ebff;}#sk-container-id-5 div.sk-serial::before {content: \"\";position: absolute;border-left: 1px solid gray;box-sizing: border-box;top: 0;bottom: 0;left: 50%;z-index: 0;}#sk-container-id-5 div.sk-serial {display: flex;flex-direction: column;align-items: center;background-color: white;padding-right: 0.2em;padding-left: 0.2em;position: relative;}#sk-container-id-5 div.sk-item {position: relative;z-index: 1;}#sk-container-id-5 div.sk-parallel {display: flex;align-items: stretch;justify-content: center;background-color: white;position: relative;}#sk-container-id-5 div.sk-item::before, #sk-container-id-5 div.sk-parallel-item::before {content: \"\";position: absolute;border-left: 1px solid gray;box-sizing: border-box;top: 0;bottom: 0;left: 50%;z-index: -1;}#sk-container-id-5 div.sk-parallel-item {display: flex;flex-direction: column;z-index: 1;position: relative;background-color: white;}#sk-container-id-5 div.sk-parallel-item:first-child::after {align-self: flex-end;width: 50%;}#sk-container-id-5 div.sk-parallel-item:last-child::after {align-self: flex-start;width: 50%;}#sk-container-id-5 div.sk-parallel-item:only-child::after {width: 0;}#sk-container-id-5 div.sk-dashed-wrapped {border: 1px dashed gray;margin: 0 0.4em 0.5em 0.4em;box-sizing: border-box;padding-bottom: 0.4em;background-color: white;}#sk-container-id-5 div.sk-label label {font-family: monospace;font-weight: bold;display: inline-block;line-height: 1.2em;}#sk-container-id-5 div.sk-label-container {text-align: center;}#sk-container-id-5 div.sk-container {/* jupyter's `normalize.less` sets `[hidden] { display: none; }` but bootstrap.min.css set `[hidden] { display: none !important; }` so we also need the `!important` here to be able to override the default hidden behavior on the sphinx rendered scikit-learn.org. See: https://github.com/scikit-learn/scikit-learn/issues/21755 */display: inline-block !important;position: relative;}#sk-container-id-5 div.sk-text-repr-fallback {display: none;}</style><div id=\"sk-container-id-5\" class=\"sk-top-container\"><div class=\"sk-text-repr-fallback\"><pre>GridSearchCV(estimator=RandomForestClassifier(),\n",
              "             param_grid={&#x27;max_depth&#x27;: [5, 10, 15, 20],\n",
              "                         &#x27;min_samples_leaf&#x27;: [2, 3],\n",
              "                         &#x27;min_samples_split&#x27;: [2, 5]},\n",
              "             verbose=2)</pre><b>In a Jupyter environment, please rerun this cell to show the HTML representation or trust the notebook. <br />On GitHub, the HTML representation is unable to render, please try loading this page with nbviewer.org.</b></div><div class=\"sk-container\" hidden><div class=\"sk-item sk-dashed-wrapped\"><div class=\"sk-label-container\"><div class=\"sk-label sk-toggleable\"><input class=\"sk-toggleable__control sk-hidden--visually\" id=\"sk-estimator-id-13\" type=\"checkbox\" ><label for=\"sk-estimator-id-13\" class=\"sk-toggleable__label sk-toggleable__label-arrow\">GridSearchCV</label><div class=\"sk-toggleable__content\"><pre>GridSearchCV(estimator=RandomForestClassifier(),\n",
              "             param_grid={&#x27;max_depth&#x27;: [5, 10, 15, 20],\n",
              "                         &#x27;min_samples_leaf&#x27;: [2, 3],\n",
              "                         &#x27;min_samples_split&#x27;: [2, 5]},\n",
              "             verbose=2)</pre></div></div></div><div class=\"sk-parallel\"><div class=\"sk-parallel-item\"><div class=\"sk-item\"><div class=\"sk-label-container\"><div class=\"sk-label sk-toggleable\"><input class=\"sk-toggleable__control sk-hidden--visually\" id=\"sk-estimator-id-14\" type=\"checkbox\" ><label for=\"sk-estimator-id-14\" class=\"sk-toggleable__label sk-toggleable__label-arrow\">estimator: RandomForestClassifier</label><div class=\"sk-toggleable__content\"><pre>RandomForestClassifier()</pre></div></div></div><div class=\"sk-serial\"><div class=\"sk-item\"><div class=\"sk-estimator sk-toggleable\"><input class=\"sk-toggleable__control sk-hidden--visually\" id=\"sk-estimator-id-15\" type=\"checkbox\" ><label for=\"sk-estimator-id-15\" class=\"sk-toggleable__label sk-toggleable__label-arrow\">RandomForestClassifier</label><div class=\"sk-toggleable__content\"><pre>RandomForestClassifier()</pre></div></div></div></div></div></div></div></div></div></div>"
            ]
          },
          "metadata": {},
          "execution_count": 65
        }
      ]
    },
    {
      "cell_type": "code",
      "source": [
        "#Mejores parámetros del modelo\n",
        "gs.best_params_"
      ],
      "metadata": {
        "colab": {
          "base_uri": "https://localhost:8080/"
        },
        "id": "k7acgFtHSjNp",
        "outputId": "187912a4-1c99-4e5c-e7aa-347ecdb91151"
      },
      "execution_count": 66,
      "outputs": [
        {
          "output_type": "execute_result",
          "data": {
            "text/plain": [
              "{'max_depth': 5, 'min_samples_leaf': 2, 'min_samples_split': 5}"
            ]
          },
          "metadata": {},
          "execution_count": 66
        }
      ]
    },
    {
      "cell_type": "code",
      "source": [
        "#Instanciamos el modelo con los mejores parámetros:\n",
        "rf=RandomForestClassifier(max_depth=10, min_samples_leaf=2, min_samples_split=5)\n",
        "#Ajustamos el modelo al conjunto de entrenamiento:\n",
        "rf.fit(X_train_pro,y_train)\n",
        "#Encontramos las predicciones del modelo para el conjunto de prueba\n",
        "y_pred_r=rf.predict(X_test_pro)\n",
        "#Classification report para verificar exactitud, precisión, recall, f1\n",
        "print(classification_report(y_test,y_pred_r))"
      ],
      "metadata": {
        "colab": {
          "base_uri": "https://localhost:8080/"
        },
        "id": "iuEmlt0IS4nI",
        "outputId": "e4f34f0d-f936-4ea9-8aba-2b277c7ebf86"
      },
      "execution_count": 69,
      "outputs": [
        {
          "output_type": "stream",
          "name": "stdout",
          "text": [
            "              precision    recall  f1-score   support\n",
            "\n",
            "           1       0.88      1.00      0.94        15\n",
            "           2       1.00      0.89      0.94        18\n",
            "           3       1.00      1.00      1.00        12\n",
            "\n",
            "    accuracy                           0.96        45\n",
            "   macro avg       0.96      0.96      0.96        45\n",
            "weighted avg       0.96      0.96      0.96        45\n",
            "\n"
          ]
        }
      ]
    },
    {
      "cell_type": "code",
      "source": [
        "cm=confusion_matrix(y_test, y_pred_r)\n",
        "#Matriz de confusión, se usa un mapa de colores púrpuras\n",
        "disp = ConfusionMatrixDisplay(confusion_matrix=cm, display_labels=y.unique().tolist())\n",
        "disp.plot(cmap='Purples');\n",
        "plt.title('Modelo Decision Tree')"
      ],
      "metadata": {
        "colab": {
          "base_uri": "https://localhost:8080/",
          "height": 489
        },
        "id": "bsRIGnRGTTdE",
        "outputId": "c82f23ed-f9e7-450e-b5d7-d1fa6a746e15"
      },
      "execution_count": 75,
      "outputs": [
        {
          "output_type": "execute_result",
          "data": {
            "text/plain": [
              "Text(0.5, 1.0, 'Modelo Decision Tree')"
            ]
          },
          "metadata": {},
          "execution_count": 75
        },
        {
          "output_type": "display_data",
          "data": {
            "text/plain": [
              "<Figure size 640x480 with 2 Axes>"
            ],
            "image/png": "[encoded data removed]"
          },
          "metadata": {}
        }
      ]
    },
    {
      "cell_type": "markdown",
      "source": [
        "- El modelo de bosque aleatorio también se comporta muy bien a la hora de predecir las uvas tipo 3.  Es ligeramente peor que el modelo de Regresión Logística, pero apenas con una diferencia de 1% en exactitud, y 3% en el puntaje de F1."
      ],
      "metadata": {
        "id": "TM2rWwJ2VGxQ"
      }
    },
    {
      "cell_type": "markdown",
      "source": [
        "- **Aplicación de KNN**"
      ],
      "metadata": {
        "id": "wlmp8I-4Voqa"
      }
    },
    {
      "cell_type": "code",
      "source": [
        "#Utilizamos GridSearchCV para encontrar los mejores parámetros paa el modelo de\n",
        "#K Vecinos más Cercanos\n",
        "\n",
        "#Ahora pm contiene los hiperparámetros del modelo\n",
        "pm = {'n_neighbors':[5,15,30,40]}\n",
        "\n",
        "\n",
        "gs = GridSearchCV(KNeighborsClassifier(), pm, refit=True, verbose=2)\n",
        "gs.fit(X_train_pro, y_train) #Entrenamiento con X_train y y_t"
      ],
      "metadata": {
        "colab": {
          "base_uri": "https://localhost:8080/",
          "height": 482
        },
        "id": "rKxpU9XmVDyu",
        "outputId": "0d214715-a8cf-4507-dbcb-a53221dc2760"
      },
      "execution_count": 73,
      "outputs": [
        {
          "output_type": "stream",
          "name": "stdout",
          "text": [
            "Fitting 5 folds for each of 4 candidates, totalling 20 fits\n",
            "[CV] END ......................................n_neighbors=5; total time=   0.0s\n",
            "[CV] END ......................................n_neighbors=5; total time=   0.0s\n",
            "[CV] END ......................................n_neighbors=5; total time=   0.0s\n",
            "[CV] END ......................................n_neighbors=5; total time=   0.0s\n",
            "[CV] END ......................................n_neighbors=5; total time=   0.0s\n",
            "[CV] END .....................................n_neighbors=15; total time=   0.0s\n",
            "[CV] END .....................................n_neighbors=15; total time=   0.0s\n",
            "[CV] END .....................................n_neighbors=15; total time=   0.0s\n",
            "[CV] END .....................................n_neighbors=15; total time=   0.0s\n",
            "[CV] END .....................................n_neighbors=15; total time=   0.0s\n",
            "[CV] END .....................................n_neighbors=30; total time=   0.0s\n",
            "[CV] END .....................................n_neighbors=30; total time=   0.0s\n",
            "[CV] END .....................................n_neighbors=30; total time=   0.0s\n",
            "[CV] END .....................................n_neighbors=30; total time=   0.0s\n",
            "[CV] END .....................................n_neighbors=30; total time=   0.0s\n",
            "[CV] END .....................................n_neighbors=40; total time=   0.0s\n",
            "[CV] END .....................................n_neighbors=40; total time=   0.0s\n",
            "[CV] END .....................................n_neighbors=40; total time=   0.0s\n",
            "[CV] END .....................................n_neighbors=40; total time=   0.0s\n",
            "[CV] END .....................................n_neighbors=40; total time=   0.0s\n"
          ]
        },
        {
          "output_type": "execute_result",
          "data": {
            "text/plain": [
              "GridSearchCV(estimator=KNeighborsClassifier(),\n",
              "             param_grid={'n_neighbors': [5, 15, 30, 40]}, verbose=2)"
            ],
            "text/html": [
              "<style>#sk-container-id-6 {color: black;background-color: white;}#sk-container-id-6 pre{padding: 0;}#sk-container-id-6 div.sk-toggleable {background-color: white;}#sk-container-id-6 label.sk-toggleable__label {cursor: pointer;display: block;width: 100%;margin-bottom: 0;padding: 0.3em;box-sizing: border-box;text-align: center;}#sk-container-id-6 label.sk-toggleable__label-arrow:before {content: \"▸\";float: left;margin-right: 0.25em;color: #696969;}#sk-container-id-6 label.sk-toggleable__label-arrow:hover:before {color: black;}#sk-container-id-6 div.sk-estimator:hover label.sk-toggleable__label-arrow:before {color: black;}#sk-container-id-6 div.sk-toggleable__content {max-height: 0;max-width: 0;overflow: hidden;text-align: left;background-color: #f0f8ff;}#sk-container-id-6 div.sk-toggleable__content pre {margin: 0.2em;color: black;border-radius: 0.25em;background-color: #f0f8ff;}#sk-container-id-6 input.sk-toggleable__control:checked~div.sk-toggleable__content {max-height: 200px;max-width: 100%;overflow: auto;}#sk-container-id-6 input.sk-toggleable__control:checked~label.sk-toggleable__label-arrow:before {content: \"▾\";}#sk-container-id-6 div.sk-estimator input.sk-toggleable__control:checked~label.sk-toggleable__label {background-color: #d4ebff;}#sk-container-id-6 div.sk-label input.sk-toggleable__control:checked~label.sk-toggleable__label {background-color: #d4ebff;}#sk-container-id-6 input.sk-hidden--visually {border: 0;clip: rect(1px 1px 1px 1px);clip: rect(1px, 1px, 1px, 1px);height: 1px;margin: -1px;overflow: hidden;padding: 0;position: absolute;width: 1px;}#sk-container-id-6 div.sk-estimator {font-family: monospace;background-color: #f0f8ff;border: 1px dotted black;border-radius: 0.25em;box-sizing: border-box;margin-bottom: 0.5em;}#sk-container-id-6 div.sk-estimator:hover {background-color: #d4ebff;}#sk-container-id-6 div.sk-parallel-item::after {content: \"\";width: 100%;border-bottom: 1px solid gray;flex-grow: 1;}#sk-container-id-6 div.sk-label:hover label.sk-toggleable__label {background-color: #d4ebff;}#sk-container-id-6 div.sk-serial::before {content: \"\";position: absolute;border-left: 1px solid gray;box-sizing: border-box;top: 0;bottom: 0;left: 50%;z-index: 0;}#sk-container-id-6 div.sk-serial {display: flex;flex-direction: column;align-items: center;background-color: white;padding-right: 0.2em;padding-left: 0.2em;position: relative;}#sk-container-id-6 div.sk-item {position: relative;z-index: 1;}#sk-container-id-6 div.sk-parallel {display: flex;align-items: stretch;justify-content: center;background-color: white;position: relative;}#sk-container-id-6 div.sk-item::before, #sk-container-id-6 div.sk-parallel-item::before {content: \"\";position: absolute;border-left: 1px solid gray;box-sizing: border-box;top: 0;bottom: 0;left: 50%;z-index: -1;}#sk-container-id-6 div.sk-parallel-item {display: flex;flex-direction: column;z-index: 1;position: relative;background-color: white;}#sk-container-id-6 div.sk-parallel-item:first-child::after {align-self: flex-end;width: 50%;}#sk-container-id-6 div.sk-parallel-item:last-child::after {align-self: flex-start;width: 50%;}#sk-container-id-6 div.sk-parallel-item:only-child::after {width: 0;}#sk-container-id-6 div.sk-dashed-wrapped {border: 1px dashed gray;margin: 0 0.4em 0.5em 0.4em;box-sizing: border-box;padding-bottom: 0.4em;background-color: white;}#sk-container-id-6 div.sk-label label {font-family: monospace;font-weight: bold;display: inline-block;line-height: 1.2em;}#sk-container-id-6 div.sk-label-container {text-align: center;}#sk-container-id-6 div.sk-container {/* jupyter's `normalize.less` sets `[hidden] { display: none; }` but bootstrap.min.css set `[hidden] { display: none !important; }` so we also need the `!important` here to be able to override the default hidden behavior on the sphinx rendered scikit-learn.org. See: https://github.com/scikit-learn/scikit-learn/issues/21755 */display: inline-block !important;position: relative;}#sk-container-id-6 div.sk-text-repr-fallback {display: none;}</style><div id=\"sk-container-id-6\" class=\"sk-top-container\"><div class=\"sk-text-repr-fallback\"><pre>GridSearchCV(estimator=KNeighborsClassifier(),\n",
              "             param_grid={&#x27;n_neighbors&#x27;: [5, 15, 30, 40]}, verbose=2)</pre><b>In a Jupyter environment, please rerun this cell to show the HTML representation or trust the notebook. <br />On GitHub, the HTML representation is unable to render, please try loading this page with nbviewer.org.</b></div><div class=\"sk-container\" hidden><div class=\"sk-item sk-dashed-wrapped\"><div class=\"sk-label-container\"><div class=\"sk-label sk-toggleable\"><input class=\"sk-toggleable__control sk-hidden--visually\" id=\"sk-estimator-id-16\" type=\"checkbox\" ><label for=\"sk-estimator-id-16\" class=\"sk-toggleable__label sk-toggleable__label-arrow\">GridSearchCV</label><div class=\"sk-toggleable__content\"><pre>GridSearchCV(estimator=KNeighborsClassifier(),\n",
              "             param_grid={&#x27;n_neighbors&#x27;: [5, 15, 30, 40]}, verbose=2)</pre></div></div></div><div class=\"sk-parallel\"><div class=\"sk-parallel-item\"><div class=\"sk-item\"><div class=\"sk-label-container\"><div class=\"sk-label sk-toggleable\"><input class=\"sk-toggleable__control sk-hidden--visually\" id=\"sk-estimator-id-17\" type=\"checkbox\" ><label for=\"sk-estimator-id-17\" class=\"sk-toggleable__label sk-toggleable__label-arrow\">estimator: KNeighborsClassifier</label><div class=\"sk-toggleable__content\"><pre>KNeighborsClassifier()</pre></div></div></div><div class=\"sk-serial\"><div class=\"sk-item\"><div class=\"sk-estimator sk-toggleable\"><input class=\"sk-toggleable__control sk-hidden--visually\" id=\"sk-estimator-id-18\" type=\"checkbox\" ><label for=\"sk-estimator-id-18\" class=\"sk-toggleable__label sk-toggleable__label-arrow\">KNeighborsClassifier</label><div class=\"sk-toggleable__content\"><pre>KNeighborsClassifier()</pre></div></div></div></div></div></div></div></div></div></div>"
            ]
          },
          "metadata": {},
          "execution_count": 73
        }
      ]
    },
    {
      "cell_type": "code",
      "source": [
        "#Mejores parámetros del modelo\n",
        "gs.best_params_"
      ],
      "metadata": {
        "colab": {
          "base_uri": "https://localhost:8080/"
        },
        "id": "W-gPTXE0WVLO",
        "outputId": "2ed88a95-6918-4306-9a0a-6ebe9489aa00"
      },
      "execution_count": 74,
      "outputs": [
        {
          "output_type": "execute_result",
          "data": {
            "text/plain": [
              "{'n_neighbors': 15}"
            ]
          },
          "metadata": {},
          "execution_count": 74
        }
      ]
    },
    {
      "cell_type": "code",
      "source": [
        "\n",
        "#Instanciamos el modelo con los mejores parámetros:\n",
        "knn=KNeighborsClassifier(n_neighbors=15)\n",
        "#Ajustamos el modelo al conjunto de entrenamiento:\n",
        "knn.fit(X_train_pro,y_train)\n",
        "#Encontramos las predicciones del modelo para el conjunto de prueba\n",
        "y_pred_knn=knn.predict(X_test_pro)\n",
        "#Classification report para verificar exactitud, precisión, recall, f1\n",
        "print(classification_report(y_test,y_pred_knn))"
      ],
      "metadata": {
        "colab": {
          "base_uri": "https://localhost:8080/"
        },
        "id": "baWpgBD6XzrH",
        "outputId": "2bac6c34-f291-40e7-9e94-bebc3acb9365"
      },
      "execution_count": 78,
      "outputs": [
        {
          "output_type": "stream",
          "name": "stdout",
          "text": [
            "              precision    recall  f1-score   support\n",
            "\n",
            "           1       0.88      1.00      0.94        15\n",
            "           2       1.00      0.89      0.94        18\n",
            "           3       1.00      1.00      1.00        12\n",
            "\n",
            "    accuracy                           0.96        45\n",
            "   macro avg       0.96      0.96      0.96        45\n",
            "weighted avg       0.96      0.96      0.96        45\n",
            "\n"
          ]
        }
      ]
    },
    {
      "cell_type": "code",
      "source": [
        "cm=confusion_matrix(y_test, y_pred_knn)\n",
        "#Matriz de confusión, se usa un mapa de colores púrpuras\n",
        "disp = ConfusionMatrixDisplay(confusion_matrix=cm, display_labels=y.unique().tolist())\n",
        "disp.plot(cmap='Purples');\n",
        "plt.title('Modelo Decision Tree')"
      ],
      "metadata": {
        "colab": {
          "base_uri": "https://localhost:8080/",
          "height": 489
        },
        "id": "sEiBFOSnYRAz",
        "outputId": "c69365bd-efa7-4345-d7cf-fe288b14e853"
      },
      "execution_count": 79,
      "outputs": [
        {
          "output_type": "execute_result",
          "data": {
            "text/plain": [
              "Text(0.5, 1.0, 'Modelo Decision Tree')"
            ]
          },
          "metadata": {},
          "execution_count": 79
        },
        {
          "output_type": "display_data",
          "data": {
            "text/plain": [
              "<Figure size 640x480 with 2 Axes>"
            ],
            "image/png": "[encoded data removed]"
          },
          "metadata": {}
        }
      ]
    },
    {
      "cell_type": "markdown",
      "source": [
        "- El modelo de k vecinos más cercanos se comportó similar al modelo de random forest."
      ],
      "metadata": {
        "id": "GsySzHHLYjx4"
      }
    },
    {
      "cell_type": "markdown",
      "source": [
        "---\n",
        "*¿Cuál es el modelo que mejor funciona?*\n",
        "\n",
        "*¿Cuáles hiperparámetros afinaron para cada uno de los modelos? ¿Hay algún modelo que les gustó más y por qué?*"
      ],
      "metadata": {
        "id": "PEf3rs0aY7aE"
      }
    },
    {
      "cell_type": "markdown",
      "source": [
        "En este caso, el modelo de regresión logística se comportó de mejor manera, aunque puede ser por el tamaño de hiperparámetros que se probaron para aumentar el puntaje del modelo.\n",
        "\n",
        "Para la regresión logística se ajustaron solver, regularización, C.  Para bosques aleatorios se probaron diferentes profundidades máximas, muestras mínimas para hojas y ramas.  Para k vecinos más cercanos se optimizó según el número de vecinos.\n",
        "\n",
        "El regreso logístico, mientras sean pocas clases, parece funcionar bastante bien, y no demoro mucho en su entrenamiento.  "
      ],
      "metadata": {
        "id": "HqatZ42MZJVU"
      }
    }
  ]
}